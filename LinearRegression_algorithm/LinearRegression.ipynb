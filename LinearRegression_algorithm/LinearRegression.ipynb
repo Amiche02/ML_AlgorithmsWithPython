{
 "cells": [
  {
   "cell_type": "code",
   "execution_count": 1,
   "id": "dba390b6",
   "metadata": {},
   "outputs": [],
   "source": [
    "import numpy as np\n",
    "import matplotlib.pyplot as plt"
   ]
  },
  {
   "cell_type": "code",
   "execution_count": 2,
   "id": "6bb17408",
   "metadata": {},
   "outputs": [
    {
     "name": "stdout",
     "output_type": "stream",
     "text": [
      "(300, 2) (300,)\n"
     ]
    }
   ],
   "source": [
    "from sklearn.datasets import make_regression\n",
    "\n",
    "# Générer un dataset de régression avec 1000 échantillons, 10 variables indépendantes et un bruit de 0.1\n",
    "X, y = make_regression(n_samples=300, n_features=2, noise=0.1)\n",
    "\n",
    "# Afficher la forme (shape) du jeu de données\n",
    "print(X.shape, y.shape)"
   ]
  },
  {
   "cell_type": "code",
   "execution_count": 3,
   "id": "15851866",
   "metadata": {},
   "outputs": [
    {
     "data": {
      "text/plain": [
       "array([[ 1.44355747,  1.49602438],\n",
       "       [ 0.09991212,  0.53388109],\n",
       "       [ 2.16953126,  0.93622951],\n",
       "       [-0.59467912, -2.73936821],\n",
       "       [ 1.5135368 ,  0.6948388 ],\n",
       "       [ 1.30090994, -1.1644402 ],\n",
       "       [ 0.64673424,  0.76546513],\n",
       "       [ 1.67824473,  1.46634802],\n",
       "       [-1.3053947 ,  0.1370236 ],\n",
       "       [-0.88706305, -2.39193614]])"
      ]
     },
     "execution_count": 3,
     "metadata": {},
     "output_type": "execute_result"
    }
   ],
   "source": [
    "X[:10]"
   ]
  },
  {
   "cell_type": "code",
   "execution_count": 4,
   "id": "4fd4b25d",
   "metadata": {},
   "outputs": [
    {
     "data": {
      "text/plain": [
       "array([ 120.82487052,   22.15043648,  139.33078596, -117.78287807,\n",
       "         98.53745021,   28.15041055,   57.09571466,  131.51488316,\n",
       "        -61.46491274, -121.31720354])"
      ]
     },
     "execution_count": 4,
     "metadata": {},
     "output_type": "execute_result"
    }
   ],
   "source": [
    "y[:10]"
   ]
  },
  {
   "cell_type": "code",
   "execution_count": 5,
   "id": "b63a8609",
   "metadata": {},
   "outputs": [
    {
     "data": {
      "image/png": "[encoded data removed]",
      "text/plain": [
       "<Figure size 640x480 with 1 Axes>"
      ]
     },
     "metadata": {},
     "output_type": "display_data"
    }
   ],
   "source": [
    "plt.scatter(X[:,0], X[:,1])\n",
    "plt.title(\"Une d'ensemble des données\")\n",
    "plt.show()"
   ]
  },
  {
   "cell_type": "code",
   "execution_count": 6,
   "id": "9ad34915",
   "metadata": {},
   "outputs": [],
   "source": [
    "def initialization(X):\n",
    "    w = np.random.randn(X.shape[1])\n",
    "    b = np.random.randn()\n",
    "    return (w, b)"
   ]
  },
  {
   "cell_type": "code",
   "execution_count": 7,
   "id": "dcd90490",
   "metadata": {},
   "outputs": [
    {
     "name": "stdout",
     "output_type": "stream",
     "text": [
      "w = [ 0.21173674 -0.90809524]\n",
      "b = -0.5642824996045938\n"
     ]
    }
   ],
   "source": [
    "w, b = initialization(X)\n",
    "print(f\"w = {w}\\nb = {b}\")"
   ]
  },
  {
   "cell_type": "code",
   "execution_count": 8,
   "id": "761b4c24",
   "metadata": {},
   "outputs": [],
   "source": [
    "def linear_fonction(X, w, b):\n",
    "    return np.matmul(X, w) + b"
   ]
  },
  {
   "cell_type": "code",
   "execution_count": 9,
   "id": "b6248c77",
   "metadata": {},
   "outputs": [
    {
     "data": {
      "text/plain": [
       "array([-1.61716095, -1.02794231, -0.95509858,  1.7974093 , -0.87479095,\n",
       "        0.76859053, -1.12246034, -1.54052008, -0.965113  ,  1.41999947])"
      ]
     },
     "execution_count": 9,
     "metadata": {},
     "output_type": "execute_result"
    }
   ],
   "source": [
    "y_hat = linear_fonction(X,w,b)\n",
    "y_hat[:10]"
   ]
  },
  {
   "cell_type": "code",
   "execution_count": 10,
   "id": "03dffa2e",
   "metadata": {},
   "outputs": [],
   "source": [
    "def cost(y, y_hat):\n",
    "    return np.sum((y_hat-y)**2)/(2*y.shape[0])"
   ]
  },
  {
   "cell_type": "code",
   "execution_count": 11,
   "id": "58cfe127",
   "metadata": {},
   "outputs": [
    {
     "data": {
      "text/plain": [
       "1908.1689385589716"
      ]
     },
     "execution_count": 11,
     "metadata": {},
     "output_type": "execute_result"
    }
   ],
   "source": [
    "cost(y, y_hat)"
   ]
  },
  {
   "cell_type": "code",
   "execution_count": 12,
   "id": "ec613fcc",
   "metadata": {},
   "outputs": [],
   "source": [
    "def gradients(X, y, w, b):\n",
    "    m = X.shape[0]\n",
    "    j_w = np.dot(X.T, X.dot(w) + b-y)/m\n",
    "    j_b = np.sum(X.dot(w) + b-y)/m\n",
    "    return (j_w, j_b)"
   ]
  },
  {
   "cell_type": "code",
   "execution_count": 13,
   "id": "8e891a9a",
   "metadata": {},
   "outputs": [
    {
     "name": "stdout",
     "output_type": "stream",
     "text": [
      "j_w = [-53.00196049 -35.14234747], j_b = 2.764745791602798\n"
     ]
    }
   ],
   "source": [
    "j_w, j_b = gradients(X, y, w, b)\n",
    "print(f\"j_w = {j_w}, j_b = {j_b}\")"
   ]
  },
  {
   "cell_type": "code",
   "execution_count": 14,
   "id": "aa6af6e4",
   "metadata": {},
   "outputs": [],
   "source": [
    "def update(X, y, w, b, alpha):\n",
    "    j_w, j_b = gradients(X, y, w, b)\n",
    "    w = w - alpha*j_w\n",
    "    b = b - alpha*j_b\n",
    "    return (w, b)"
   ]
  },
  {
   "cell_type": "code",
   "execution_count": 15,
   "id": "0c6e13f5",
   "metadata": {},
   "outputs": [
    {
     "data": {
      "text/plain": [
       "(array([ 0.2647387 , -0.87295289]), -0.5670472453961966)"
      ]
     },
     "execution_count": 15,
     "metadata": {},
     "output_type": "execute_result"
    }
   ],
   "source": [
    "update(X, y, w, b, 0.001)"
   ]
  },
  {
   "cell_type": "code",
   "execution_count": 16,
   "id": "5e01139f",
   "metadata": {},
   "outputs": [],
   "source": [
    "def gradient_descent(X, y, w, b, alpha=0.001, n_iter = 1000):\n",
    "    cost_ = []  \n",
    "    for i in range(n_iter):\n",
    "        y_hat = linear_fonction(X, w, b)\n",
    "        cost_.append(cost(y, y_hat))\n",
    "        w, b = update(X, y, w, b, alpha)\n",
    "    print(f\"First_cost = {cost_[0]}\\nLast_cost = {cost_[-1]}\")\n",
    "    print(f\"W = {w}\\nb = {b}\")\n",
    "    plt.plot(cost_)\n",
    "    plt.show()"
   ]
  },
  {
   "cell_type": "code",
   "execution_count": 17,
   "id": "7a9ec831",
   "metadata": {},
   "outputs": [
    {
     "name": "stdout",
     "output_type": "stream",
     "text": [
      "First_cost = 1908.1689385589716\n",
      "Last_cost = 0.005365711351339526\n",
      "W = [50.37363646 32.06808891]\n",
      "b = -0.0017528732341618096\n"
     ]
    },
    {
     "data": {
      "image/png": "[encoded data removed]",
      "text/plain": [
       "<Figure size 640x480 with 1 Axes>"
      ]
     },
     "metadata": {},
     "output_type": "display_data"
    }
   ],
   "source": [
    "gradient_descent(X, y, w, b, n_iter = 8900)"
   ]
  },
  {
   "cell_type": "code",
   "execution_count": 18,
   "id": "bcec1ec1",
   "metadata": {},
   "outputs": [],
   "source": [
    "def predict(X):\n",
    "    return np.matmul(X, w) + b"
   ]
  },
  {
   "cell_type": "code",
   "execution_count": 19,
   "id": "9b46b2b2",
   "metadata": {},
   "outputs": [],
   "source": [
    "y_hat = predict(X)"
   ]
  },
  {
   "cell_type": "code",
   "execution_count": 20,
   "id": "bd4b8ac8",
   "metadata": {},
   "outputs": [
    {
     "data": {
      "text/plain": [
       "array([-1.61716095, -1.02794231, -0.95509858,  1.7974093 , -0.87479095,\n",
       "        0.76859053, -1.12246034, -1.54052008, -0.965113  ,  1.41999947])"
      ]
     },
     "execution_count": 20,
     "metadata": {},
     "output_type": "execute_result"
    }
   ],
   "source": [
    "y_hat[:10]"
   ]
  },
  {
   "cell_type": "markdown",
   "id": "da9a3216",
   "metadata": {},
   "source": [
    "# Version 2"
   ]
  },
  {
   "cell_type": "code",
   "execution_count": 22,
   "id": "59d61a73",
   "metadata": {},
   "outputs": [],
   "source": [
    "def initialization(X):\n",
    "    w = np.random.randn(X.shape[1])\n",
    "    b = np.random.randn()\n",
    "    return (w, b)"
   ]
  },
  {
   "cell_type": "code",
   "execution_count": 23,
   "id": "d799e0f5",
   "metadata": {},
   "outputs": [],
   "source": [
    "def predict(X, w, b):\n",
    "    return np.dot(X, w) + b"
   ]
  },
  {
   "cell_type": "code",
   "execution_count": 24,
   "id": "202abc1e",
   "metadata": {},
   "outputs": [],
   "source": [
    "def cost(X, y, w, b):\n",
    "    m = len(y)\n",
    "    y_hat = predict(X, w, b)\n",
    "    return np.sum((y_hat - y)**2) / (2 * m)"
   ]
  },
  {
   "cell_type": "code",
   "execution_count": 25,
   "id": "b46b0f84",
   "metadata": {},
   "outputs": [],
   "source": [
    "def gradient(X, y, w, b):\n",
    "    m = len(y)\n",
    "    y_hat = predict(X, w, b)\n",
    "    dw = np.dot(X.T, (y_hat - y)) / m\n",
    "    db = np.mean(y_hat - y)\n",
    "    return dw, db"
   ]
  },
  {
   "cell_type": "code",
   "execution_count": 26,
   "id": "4f0a6ce1",
   "metadata": {},
   "outputs": [],
   "source": [
    "def train(X, y, w, b, learning_rate, n_iterations):\n",
    "    costs = []\n",
    "    for i in range(n_iterations):\n",
    "        \n",
    "        y_hat= predict(X, w, b)\n",
    "        cost_i = cost(X, y, w, b)\n",
    "        costs.append(cost_i)\n",
    "        \n",
    "        dw, db = gradient(X, y, w, b)\n",
    "        w -= learning_rate * dw\n",
    "        b -= learning_rate * db\n",
    "        \n",
    "        if i % 100 == 0:\n",
    "            print(f\"Iteration {i} : cost = {cost_i}\")\n",
    "            \n",
    "    return w, b, costs\n"
   ]
  },
  {
   "cell_type": "code",
   "execution_count": 27,
   "id": "08c40391",
   "metadata": {},
   "outputs": [],
   "source": [
    "w, b = initialization(X)"
   ]
  },
  {
   "cell_type": "code",
   "execution_count": 28,
   "id": "5c9984cd",
   "metadata": {},
   "outputs": [
    {
     "name": "stdout",
     "output_type": "stream",
     "text": [
      "Iteration 0 : cost = 1974.7730915463476\n",
      "Iteration 100 : cost = 235.20342002259665\n",
      "Iteration 200 : cost = 28.382742556288722\n",
      "Iteration 300 : cost = 3.478278832767265\n",
      "Iteration 400 : cost = 0.43700973175284646\n",
      "Iteration 500 : cost = 0.05989263344466968\n",
      "Iteration 600 : cost = 0.01235743117952742\n",
      "Iteration 700 : cost = 0.006261947904959221\n",
      "Iteration 800 : cost = 0.00546652145282869\n",
      "Iteration 900 : cost = 0.005360908866497035\n"
     ]
    }
   ],
   "source": [
    "w_, b_,costs = train(X, y, w, b, 0.01, 1000)"
   ]
  },
  {
   "cell_type": "code",
   "execution_count": 29,
   "id": "c4abc87d",
   "metadata": {},
   "outputs": [
    {
     "data": {
      "image/png": "[encoded data removed]",
      "text/plain": [
       "<Figure size 640x480 with 1 Axes>"
      ]
     },
     "metadata": {},
     "output_type": "display_data"
    }
   ],
   "source": [
    "plt.plot(costs)\n",
    "plt.show()"
   ]
  },
  {
   "cell_type": "code",
   "execution_count": null,
   "id": "9de33df6",
   "metadata": {},
   "outputs": [],
   "source": []
  },
  {
   "cell_type": "code",
   "execution_count": null,
   "id": "8e3d5fca",
   "metadata": {},
   "outputs": [],
   "source": []
  },
  {
   "cell_type": "code",
   "execution_count": 30,
   "id": "363ec4da",
   "metadata": {},
   "outputs": [
    {
     "name": "stdout",
     "output_type": "stream",
     "text": [
      "RMSE: 61.776515579287434\n",
      "R²: -0.012633216260934388\n"
     ]
    }
   ],
   "source": [
    "from sklearn.metrics import mean_squared_error, r2_score\n",
    "\n",
    "# Calculer la racine carrée de l'erreur quadratique moyenne (RMSE)\n",
    "rmse = mean_squared_error(y, y_hat, squared=False)\n",
    "\n",
    "# Calculer le coefficient de détermination (R²)\n",
    "r2 = r2_score(y, y_hat)\n",
    "\n",
    "# Afficher les résultats\n",
    "print('RMSE:', rmse)\n",
    "print('R²:', r2)"
   ]
  },
  {
   "cell_type": "code",
   "execution_count": 149,
   "id": "de7590a2",
   "metadata": {},
   "outputs": [],
   "source": [
    "import numpy as np\n",
    "\n",
    "class LinearRegression:\n",
    "    \"\"\"\n",
    "    Régression linéaire avec la descente de gradient\n",
    "    \"\"\"\n",
    "    \n",
    "    def __init__(self, learning_rate=0.01, n_iterations=1000):\n",
    "        self.learning_rate = learning_rate\n",
    "        self.n_iterations = n_iterations\n",
    "        self.w = None\n",
    "        self.b = None\n",
    "        self.costs = []\n",
    "    \n",
    "    def fit(self, X, y):\n",
    "        # Normalization of the features\n",
    "        mean = np.mean(X, axis=0)\n",
    "        std = np.std(X, axis=0)\n",
    "        X = (X - mean) / std\n",
    "\n",
    "        self.w = np.random.randn(X.shape[1])\n",
    "        self.b = 0\n",
    "        \n",
    "        for i in range(self.n_iterations):\n",
    "            y_hat = self.predict(X)\n",
    "            cost_i = self.cost(X, y)\n",
    "            self.costs.append(cost_i)\n",
    "\n",
    "            # Gradients descent\n",
    "            dw, db = self.gradient(X, y)\n",
    "            self.w -= self.learning_rate * dw\n",
    "            self.b -= self.learning_rate * db\n",
    "\n",
    "            if i % 100 == 0:\n",
    "                print(f\"Iteration {i} : cost = {cost_i}\")\n",
    "\n",
    "    def predict(self, X):\n",
    "        y_hat = np.matmul(X, self.w) + self.b\n",
    "        return y_hat\n",
    "\n",
    "    def cost(self, X, y):\n",
    "        mean = np.mean(X, axis=0)\n",
    "        std = np.std(X, axis=0)\n",
    "        X = (X - mean) / std\n",
    "\n",
    "        m = len(y)\n",
    "        y_hat = self.predict(X)\n",
    "        return np.sum((y_hat - y)**2) / (2 * m)\n",
    "\n",
    "    def gradient(self, X, y):\n",
    "        m = X.shape[0]\n",
    "        j_w = (1/m) * np.matmul(X.T, np.matmul(X, self.w) + b - y)\n",
    "        j_b = (1/m) * np.sum(np.matmul(X, self.w) + b - y)\n",
    "        return (j_w, j_b)\n",
    "\n",
    "    def score(self, X, y):\n",
    "        y_hat = self.predict(X)\n",
    "        ss_res = np.sum((y - y_hat)**2)\n",
    "        ss_tot = np.sum((y - np.mean(y))**2)\n",
    "        r2 = 1 - (ss_res / ss_tot)\n",
    "\n",
    "        return r2\n",
    "\n",
    "    def plot_cost(self):\n",
    "        import matplotlib.pyplot as plt\n",
    "        plt.plot(self.costs)\n",
    "        plt.xlabel(\"Nombre d'itérations\")\n",
    "        plt.ylabel(\"Fonction de coût\")\n",
    "        plt.title(\"Apprentissage de la régression linéaire avec la descente de gradient\")\n",
    "        plt.show()\n"
   ]
  },
  {
   "cell_type": "code",
   "execution_count": 191,
   "id": "f831898c",
   "metadata": {},
   "outputs": [],
   "source": [
    "from sklearn.datasets import fetch_california_housing\n",
    "\n",
    "california = fetch_california_housing()\n",
    "X, y = california.data, california.target"
   ]
  },
  {
   "cell_type": "code",
   "execution_count": 192,
   "id": "80acf781",
   "metadata": {},
   "outputs": [
    {
     "data": {
      "text/plain": [
       "(20640, 8)"
      ]
     },
     "execution_count": 192,
     "metadata": {},
     "output_type": "execute_result"
    }
   ],
   "source": [
    "X.shape"
   ]
  },
  {
   "cell_type": "code",
   "execution_count": 193,
   "id": "f8811907",
   "metadata": {},
   "outputs": [
    {
     "name": "stdout",
     "output_type": "stream",
     "text": [
      "X_train : (14448, 8)\n",
      "X_test : (6192, 8)\n"
     ]
    }
   ],
   "source": [
    "from sklearn.model_selection import train_test_split\n",
    "X_train, X_test, y_train, y_test = train_test_split(X, y, test_size=0.3, random_state=0)\n",
    "print(f\"X_train : {X_train.shape}\\nX_test : {X_test.shape}\")"
   ]
  },
  {
   "cell_type": "code",
   "execution_count": 194,
   "id": "0313878b",
   "metadata": {},
   "outputs": [],
   "source": [
    "w = np.random.randn(X_train.shape[1])\n",
    "b = 0"
   ]
  },
  {
   "cell_type": "code",
   "execution_count": 195,
   "id": "40e0c5d7",
   "metadata": {},
   "outputs": [
    {
     "data": {
      "text/plain": [
       "array([-0.34599958, -0.59214479,  2.26072964,  0.91255674, -0.01854483,\n",
       "       -0.01894474, -0.16903714, -0.01982737])"
      ]
     },
     "execution_count": 195,
     "metadata": {},
     "output_type": "execute_result"
    }
   ],
   "source": [
    "w"
   ]
  },
  {
   "cell_type": "code",
   "execution_count": 196,
   "id": "cbbb231d",
   "metadata": {},
   "outputs": [
    {
     "data": {
      "text/plain": [
       "(14448,)"
      ]
     },
     "execution_count": 196,
     "metadata": {},
     "output_type": "execute_result"
    }
   ],
   "source": [
    "(np.matmul(X_train, w) + b).shape"
   ]
  },
  {
   "cell_type": "code",
   "execution_count": 197,
   "id": "5a65bd85",
   "metadata": {},
   "outputs": [
    {
     "name": "stdout",
     "output_type": "stream",
     "text": [
      "[-1.41746747e+02 -1.09054015e+03 -1.84231523e+02 -3.77585991e+01\n",
      " -7.53718918e+04 -1.25322924e+02 -1.32052269e+03  4.44925442e+03]\n",
      "-37.23164909728779\n"
     ]
    }
   ],
   "source": [
    "m = X_train.shape[0]\n",
    "j_w = (1/m) * np.matmul(X_train.T, np.matmul(X_train, w) + b - y_train)\n",
    "j_b = (1/m) * np.sum(np.matmul(X_train, w) + b - y_train)\n",
    "\n",
    "# Vérifier les dimensions des gradients\n",
    "print(j_w)  # devrait être (2, 1)\n",
    "print(j_b)  # devrait être un scalaire\n"
   ]
  },
  {
   "cell_type": "code",
   "execution_count": 221,
   "id": "e9563954",
   "metadata": {},
   "outputs": [
    {
     "name": "stdout",
     "output_type": "stream",
     "text": [
      "Iteration 0 : cost = 5.276841839117968\n",
      "Iteration 100 : cost = 4.227026910036307\n",
      "Iteration 200 : cost = 3.398915124807732\n",
      "Iteration 300 : cost = 2.7396830612995826\n",
      "Iteration 400 : cost = 2.212633718429792\n",
      "Iteration 500 : cost = 1.7921682863788355\n",
      "Iteration 600 : cost = 1.4603465411721577\n",
      "Iteration 700 : cost = 1.20452980658227\n",
      "Iteration 800 : cost = 1.015762471628613\n",
      "Iteration 900 : cost = 0.8876580321511504\n",
      "Iteration 1000 : cost = 0.8156303073877478\n",
      "Iteration 1100 : cost = 0.796361225584863\n",
      "Iteration 1200 : cost = 0.827431072991162\n"
     ]
    }
   ],
   "source": [
    "L =LinearRegression(0.001, 1300)\n",
    "L.fit(X_train, y_train)"
   ]
  },
  {
   "cell_type": "code",
   "execution_count": 222,
   "id": "392473b8",
   "metadata": {},
   "outputs": [
    {
     "data": {
      "image/png": "[encoded data removed]",
      "text/plain": [
       "<Figure size 640x480 with 1 Axes>"
      ]
     },
     "metadata": {},
     "output_type": "display_data"
    }
   ],
   "source": [
    "L.plot_cost()"
   ]
  },
  {
   "cell_type": "code",
   "execution_count": 219,
   "id": "c360422a",
   "metadata": {},
   "outputs": [
    {
     "data": {
      "text/plain": [
       "-402066.7492498711"
      ]
     },
     "execution_count": 219,
     "metadata": {},
     "output_type": "execute_result"
    }
   ],
   "source": [
    "L.score(X_test, y_test)"
   ]
  },
  {
   "cell_type": "code",
   "execution_count": null,
   "id": "3b07e57f",
   "metadata": {},
   "outputs": [],
   "source": []
  },
  {
   "cell_type": "markdown",
   "id": "f2313e13",
   "metadata": {},
   "source": [
    "### Stéphane KPOVIESSI"
   ]
  }
 ],
 "metadata": {
  "kernelspec": {
   "display_name": "Python 3 (ipykernel)",
   "language": "python",
   "name": "python3"
  },
  "language_info": {
   "codemirror_mode": {
    "name": "ipython",
    "version": 3
   },
   "file_extension": ".py",
   "mimetype": "text/x-python",
   "name": "python",
   "nbconvert_exporter": "python",
   "pygments_lexer": "ipython3",
   "version": "3.10.9"
  }
 },
 "nbformat": 4,
 "nbformat_minor": 5
}
